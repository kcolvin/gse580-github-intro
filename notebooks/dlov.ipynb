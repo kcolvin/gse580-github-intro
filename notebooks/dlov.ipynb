{
 "cells": [
  {
   "cell_type": "markdown",
   "metadata": {},
   "source": [
    "# Instructions: Save a copy of this file as yourusername.ipynb\n",
    "- Copy the template.ipynb file to a new file. Do not edit the template.ipynb file.\n",
    "- Name the new file: <I><B>yourusername.ipynb</I></B>\n",
    "- This will create a copy of the template.ipynb file.\n",
    "- This will add this new file to the repo when we take proper steps using 'git' and 'GitHub'\n",
    "\n",
    "Next, run all the cells in the Notebook to learn how to do new operations with a SQL database."
   ]
  },
  {
   "cell_type": "markdown",
   "metadata": {},
   "source": [
    "### SQL Databases: Perfoming CRUD Activities (Create, Read, Update, Delete)\n",
    "Last activity, we only read records from a table using the SELECT statement in SQL.  Today, we'll do other important functions:\n",
    "- Create a record\n",
    "- Delete a record\n",
    "- Update a record\n",
    "\n",
    "Be a little careful, as you have full privledges on the database named 'gse'.  This is a sandbox environment, so if you accidentally delete something, we can always rebuild it."
   ]
  },
  {
   "cell_type": "code",
   "execution_count": 1,
   "metadata": {},
   "outputs": [],
   "source": [
    "# Import libraries\n",
    "#import pandas as pd # Not going to use it this week\n",
    "#import numpy as np # Not going to use it this week\n",
    "import boto3\n",
    "import mysql.connector"
   ]
  },
  {
   "cell_type": "code",
   "execution_count": 2,
   "metadata": {},
   "outputs": [
    {
     "name": "stdout",
     "output_type": "stream",
     "text": [
      "dlov\n"
     ]
    }
   ],
   "source": [
    "# Initialize boto3 and make sure credentials are ready connect to AWS. \n",
    "# These credentials come from using the 'aws configure' command.\n",
    "session = boto3.Session()\n",
    "sts = session.client('sts')\n",
    "response = sts.get_caller_identity()\n",
    "my_username = response['Arn'].split('/')[1]\n",
    "print(my_username)"
   ]
  },
  {
   "cell_type": "markdown",
   "metadata": {},
   "source": [
    "#### Insert records into a SQL database"
   ]
  },
  {
   "cell_type": "code",
   "execution_count": 3,
   "metadata": {},
   "outputs": [],
   "source": [
    "# Define parameters to query a cloud-based MySQL server. \n",
    "HOST = '34.222.176.125'  # This is our Aurora database in AWS\n",
    "# Credentials you'll use on the MySQL Server. These are not the same as AWS credentials.\n",
    "USER = 'gse'\n",
    "PASSWORD = 'Student42'\n",
    "# Which database to query\n",
    "DATABASE = 'gse'\n",
    "PORT = '80'"
   ]
  },
  {
   "cell_type": "code",
   "execution_count": 4,
   "metadata": {},
   "outputs": [],
   "source": [
    "# Connect to the db by creating a 'connector' called conn\n",
    "conn = mysql.connector.connect(\n",
    "    host = HOST,\n",
    "    port = PORT,\n",
    "    user = USER,\n",
    "    password = PASSWORD,\n",
    "    database = DATABASE)"
   ]
  },
  {
   "cell_type": "code",
   "execution_count": 5,
   "metadata": {},
   "outputs": [],
   "source": [
    "# Next, we need to create a cursor object to query data. This is just part of the process.\n",
    "mycursor = conn.cursor()"
   ]
  },
  {
   "cell_type": "code",
   "execution_count": 6,
   "metadata": {},
   "outputs": [
    {
     "data": {
      "text/plain": [
       "[('students',)]"
      ]
     },
     "execution_count": 6,
     "metadata": {},
     "output_type": "execute_result"
    }
   ],
   "source": [
    "# List the tables are in the 'gse' database\n",
    "query = \"SHOW TABLES\"\n",
    "mycursor.execute(query)\n",
    "myresult = mycursor.fetchall()\n",
    "myresult"
   ]
  },
  {
   "cell_type": "code",
   "execution_count": 7,
   "metadata": {},
   "outputs": [
    {
     "data": {
      "text/plain": [
       "[(11, 'student1', 'student1@calpoly.edu'),\n",
       " (15, 'student2', 'student2@calpoly.edu'),\n",
       " (18, 'mjordan', 'mjordan@calpoly.edu'),\n",
       " (20, 'lbird', 'lbird@calpoly.edu'),\n",
       " (21, 'dr_j', 'dr_j@calpoly.edu'),\n",
       " (22, 'mjohson', 'mjohson@calpoly.edu'),\n",
       " (23, 'kjabbar', 'kjabbar@calpoly.edu'),\n",
       " (24, 'drodman', 'drodman@calpoly.edu'),\n",
       " (25, 'blaimbeer', 'bill_laimbeer@gmail.com')]"
      ]
     },
     "execution_count": 7,
     "metadata": {},
     "output_type": "execute_result"
    }
   ],
   "source": [
    "# Select everything from the students table\n",
    "query = \"SELECT * FROM students\"\n",
    "# Same pattern\n",
    "mycursor.execute(query)\n",
    "myresult = mycursor.fetchall()\n",
    "myresult"
   ]
  },
  {
   "cell_type": "code",
   "execution_count": 8,
   "metadata": {},
   "outputs": [
    {
     "data": {
      "text/plain": [
       "[('id', 'int(11)', 'NO', 'PRI', None, 'auto_increment'),\n",
       " ('username', 'varchar(100)', 'NO', 'UNI', None, ''),\n",
       " ('email', 'varchar(100)', 'NO', '', None, '')]"
      ]
     },
     "execution_count": 8,
     "metadata": {},
     "output_type": "execute_result"
    }
   ],
   "source": [
    "# List the columns in the students table\n",
    "query = \"DESCRIBE students\"\n",
    "# Same pattern\n",
    "mycursor.execute(query)\n",
    "myresult = mycursor.fetchall()\n",
    "myresult"
   ]
  },
  {
   "cell_type": "markdown",
   "metadata": {},
   "source": [
    "#### Notice the 'username' column has the 'UNI' constraint. It must be unique in the table."
   ]
  },
  {
   "cell_type": "markdown",
   "metadata": {},
   "source": [
    "### Insert a record into the database. Make note of the new line in the code: conn.commit(). "
   ]
  },
  {
   "cell_type": "code",
   "execution_count": 9,
   "metadata": {},
   "outputs": [
    {
     "name": "stdout",
     "output_type": "stream",
     "text": [
      "INSERT INTO students (username, email) VALUES ('dlov', 'dlov@calpoly.edu')\n"
     ]
    },
    {
     "data": {
      "text/plain": [
       "[]"
      ]
     },
     "execution_count": 9,
     "metadata": {},
     "output_type": "execute_result"
    }
   ],
   "source": [
    "# Insert your own record into the students table\n",
    "# my_username  is defined above\n",
    "email = my_username + '@calpoly.edu'\n",
    "# Define the query\n",
    "#insert_var = \"Hello {} and {} I'm Pytutorial I'm {} years old\".format(variable_1, variable_2, age)\n",
    "query = \"INSERT INTO students (username, email) VALUES ('{}', '{}')\".format(my_username,email)\n",
    "print(query)\n",
    "# Run the query\n",
    "mycursor.execute(query)\n",
    "# Commit the insert to the database connection. This is requred to insert, update or delete a record\n",
    "conn.commit()\n",
    "myresult = mycursor.fetchall()\n",
    "myresult"
   ]
  },
  {
   "cell_type": "markdown",
   "metadata": {},
   "source": [
    "### Do you see your record?"
   ]
  },
  {
   "cell_type": "code",
   "execution_count": 10,
   "metadata": {},
   "outputs": [
    {
     "data": {
      "text/plain": [
       "[(11, 'student1', 'student1@calpoly.edu'),\n",
       " (15, 'student2', 'student2@calpoly.edu'),\n",
       " (18, 'mjordan', 'mjordan@calpoly.edu'),\n",
       " (20, 'lbird', 'lbird@calpoly.edu'),\n",
       " (21, 'dr_j', 'dr_j@calpoly.edu'),\n",
       " (22, 'mjohson', 'mjohson@calpoly.edu'),\n",
       " (23, 'kjabbar', 'kjabbar@calpoly.edu'),\n",
       " (24, 'drodman', 'drodman@calpoly.edu'),\n",
       " (25, 'blaimbeer', 'bill_laimbeer@gmail.com'),\n",
       " (32, 'dlov', 'dlov@calpoly.edu')]"
      ]
     },
     "execution_count": 10,
     "metadata": {},
     "output_type": "execute_result"
    }
   ],
   "source": [
    "query = \"SELECT * FROM students\"\n",
    "# Run the query\n",
    "mycursor.execute(query)\n",
    "myresult = mycursor.fetchall()\n",
    "myresult"
   ]
  },
  {
   "cell_type": "markdown",
   "metadata": {},
   "source": [
    "### Find the id number of your record. Then delete that record. (Please don't delete other records.)"
   ]
  },
  {
   "cell_type": "code",
   "execution_count": 12,
   "metadata": {},
   "outputs": [
    {
     "ename": "ProgrammingError",
     "evalue": "1054 (42S22): Unknown column 'dlov' in 'where clause'",
     "output_type": "error",
     "traceback": [
      "\u001b[0;31m---------------------------------------------------------------------------\u001b[0m",
      "\u001b[0;31mMySQLInterfaceError\u001b[0m                       Traceback (most recent call last)",
      "\u001b[0;32m~/.conda/envs/default/lib/python3.9/site-packages/mysql/connector/connection_cext.py\u001b[0m in \u001b[0;36mcmd_query\u001b[0;34m(self, query, raw, buffered, raw_as_string)\u001b[0m\n\u001b[1;32m    522\u001b[0m                 \u001b[0mquery\u001b[0m \u001b[0;34m=\u001b[0m \u001b[0mquery\u001b[0m\u001b[0;34m.\u001b[0m\u001b[0mencode\u001b[0m\u001b[0;34m(\u001b[0m\u001b[0;34m'utf-8'\u001b[0m\u001b[0;34m)\u001b[0m\u001b[0;34m\u001b[0m\u001b[0;34m\u001b[0m\u001b[0m\n\u001b[0;32m--> 523\u001b[0;31m             self._cmysql.query(query,\n\u001b[0m\u001b[1;32m    524\u001b[0m                                \u001b[0mraw\u001b[0m\u001b[0;34m=\u001b[0m\u001b[0mraw\u001b[0m\u001b[0;34m,\u001b[0m \u001b[0mbuffered\u001b[0m\u001b[0;34m=\u001b[0m\u001b[0mbuffered\u001b[0m\u001b[0;34m,\u001b[0m\u001b[0;34m\u001b[0m\u001b[0;34m\u001b[0m\u001b[0m\n",
      "\u001b[0;31mMySQLInterfaceError\u001b[0m: Unknown column 'dlov' in 'where clause'",
      "\nDuring handling of the above exception, another exception occurred:\n",
      "\u001b[0;31mProgrammingError\u001b[0m                          Traceback (most recent call last)",
      "\u001b[0;32m/tmp/ipykernel_251/1342091582.py\u001b[0m in \u001b[0;36m<module>\u001b[0;34m\u001b[0m\n\u001b[1;32m      2\u001b[0m \u001b[0mquery\u001b[0m \u001b[0;34m=\u001b[0m \u001b[0;34m\"DELETE FROM students WHERE id = dlov\"\u001b[0m  \u001b[0;31m# You must type your id into this query.\u001b[0m\u001b[0;34m\u001b[0m\u001b[0;34m\u001b[0m\u001b[0m\n\u001b[1;32m      3\u001b[0m \u001b[0;31m# Run the query\u001b[0m\u001b[0;34m\u001b[0m\u001b[0;34m\u001b[0m\u001b[0m\n\u001b[0;32m----> 4\u001b[0;31m \u001b[0mmycursor\u001b[0m\u001b[0;34m.\u001b[0m\u001b[0mexecute\u001b[0m\u001b[0;34m(\u001b[0m\u001b[0mquery\u001b[0m\u001b[0;34m)\u001b[0m\u001b[0;34m\u001b[0m\u001b[0;34m\u001b[0m\u001b[0m\n\u001b[0m\u001b[1;32m      5\u001b[0m \u001b[0mconn\u001b[0m\u001b[0;34m.\u001b[0m\u001b[0mcommit\u001b[0m\u001b[0;34m(\u001b[0m\u001b[0;34m)\u001b[0m\u001b[0;34m\u001b[0m\u001b[0;34m\u001b[0m\u001b[0m\n\u001b[1;32m      6\u001b[0m \u001b[0mmyresult\u001b[0m \u001b[0;34m=\u001b[0m \u001b[0mmycursor\u001b[0m\u001b[0;34m.\u001b[0m\u001b[0mfetchall\u001b[0m\u001b[0;34m(\u001b[0m\u001b[0;34m)\u001b[0m\u001b[0;34m\u001b[0m\u001b[0;34m\u001b[0m\u001b[0m\n",
      "\u001b[0;32m~/.conda/envs/default/lib/python3.9/site-packages/mysql/connector/cursor_cext.py\u001b[0m in \u001b[0;36mexecute\u001b[0;34m(self, operation, params, multi)\u001b[0m\n\u001b[1;32m    267\u001b[0m \u001b[0;34m\u001b[0m\u001b[0m\n\u001b[1;32m    268\u001b[0m         \u001b[0;32mtry\u001b[0m\u001b[0;34m:\u001b[0m\u001b[0;34m\u001b[0m\u001b[0;34m\u001b[0m\u001b[0m\n\u001b[0;32m--> 269\u001b[0;31m             result = self._cnx.cmd_query(stmt, raw=self._raw,\n\u001b[0m\u001b[1;32m    270\u001b[0m                                          \u001b[0mbuffered\u001b[0m\u001b[0;34m=\u001b[0m\u001b[0mself\u001b[0m\u001b[0;34m.\u001b[0m\u001b[0m_buffered\u001b[0m\u001b[0;34m,\u001b[0m\u001b[0;34m\u001b[0m\u001b[0;34m\u001b[0m\u001b[0m\n\u001b[1;32m    271\u001b[0m                                          raw_as_string=self._raw_as_string)\n",
      "\u001b[0;32m~/.conda/envs/default/lib/python3.9/site-packages/mysql/connector/connection_cext.py\u001b[0m in \u001b[0;36mcmd_query\u001b[0;34m(self, query, raw, buffered, raw_as_string)\u001b[0m\n\u001b[1;32m    526\u001b[0m                                query_attrs=self._query_attrs)\n\u001b[1;32m    527\u001b[0m         \u001b[0;32mexcept\u001b[0m \u001b[0mMySQLInterfaceError\u001b[0m \u001b[0;32mas\u001b[0m \u001b[0mexc\u001b[0m\u001b[0;34m:\u001b[0m\u001b[0;34m\u001b[0m\u001b[0;34m\u001b[0m\u001b[0m\n\u001b[0;32m--> 528\u001b[0;31m             raise errors.get_mysql_exception(exc.errno, msg=exc.msg,\n\u001b[0m\u001b[1;32m    529\u001b[0m                                              sqlstate=exc.sqlstate)\n\u001b[1;32m    530\u001b[0m         \u001b[0;32mexcept\u001b[0m \u001b[0mAttributeError\u001b[0m\u001b[0;34m:\u001b[0m\u001b[0;34m\u001b[0m\u001b[0;34m\u001b[0m\u001b[0m\n",
      "\u001b[0;31mProgrammingError\u001b[0m: 1054 (42S22): Unknown column 'dlov' in 'where clause'"
     ]
    }
   ],
   "source": [
    "# Find the id of your record and delete it.\n",
    "query = \"DELETE FROM students WHERE id = \"  # You must type your id into this query.\n",
    "# Run the query\n",
    "mycursor.execute(query)\n",
    "conn.commit()\n",
    "myresult = mycursor.fetchall()\n",
    "myresult"
   ]
  },
  {
   "cell_type": "markdown",
   "metadata": {},
   "source": [
    "### Is your record gone?"
   ]
  },
  {
   "cell_type": "code",
   "execution_count": 77,
   "metadata": {},
   "outputs": [
    {
     "data": {
      "text/plain": [
       "[(11, 'student1', 'student1@calpoly.edu'),\n",
       " (15, 'student2', 'student2@calpoly.edu'),\n",
       " (18, 'mjordan', 'mjordan@calpoly.edu'),\n",
       " (20, 'lbird', 'lbird@calpoly.edu'),\n",
       " (21, 'dr_j', 'dr_j@calpoly.edu'),\n",
       " (22, 'mjohson', 'mjohson@calpoly.edu'),\n",
       " (23, 'kjabbar', 'kjabbar@calpoly.edu'),\n",
       " (24, 'drodman', 'drodman@calpoly.edu'),\n",
       " (25, 'blaimbeer', 'bill_laimbeer@gmail.com'),\n",
       " (30, 'kcolvin', 'kcolvin@calpoly.edu')]"
      ]
     },
     "execution_count": 77,
     "metadata": {},
     "output_type": "execute_result"
    }
   ],
   "source": [
    "query = \"SELECT * FROM students\"\n",
    "# Run the query\n",
    "mycursor.execute(query)\n",
    "myresult = mycursor.fetchall()\n",
    "myresult"
   ]
  },
  {
   "cell_type": "markdown",
   "metadata": {},
   "source": [
    "### Insert your record again. You'll get a new id number."
   ]
  },
  {
   "cell_type": "code",
   "execution_count": null,
   "metadata": {},
   "outputs": [
    {
     "name": "stdout",
     "output_type": "stream",
     "text": [
      "INSERT INTO students (username, email) VALUES ('kcolvin', 'kcolvin@calpoly.edu')\n"
     ]
    },
    {
     "data": {
      "text/plain": [
       "[]"
      ]
     },
     "execution_count": 58,
     "metadata": {},
     "output_type": "execute_result"
    }
   ],
   "source": [
    "# Insert your record again.\n",
    "# my_username  is defined above\n",
    "email = my_username + '@calpoly.edu'\n",
    "# Define the query\n",
    "#insert_var = \"Hello {} and {} I'm Pytutorial I'm {} years old\".format(variable_1, variable_2, age)\n",
    "query = \"INSERT INTO students (username, email) VALUES ('{}', '{}')\".format(my_username,email)\n",
    "print(query)\n",
    "# Run the query\n",
    "mycursor.execute(query)\n",
    "# Commit the insert to the database connection. This is requred to insert, update or delete a record\n",
    "conn.commit()\n",
    "myresult = mycursor.fetchall()\n",
    "myresult"
   ]
  },
  {
   "cell_type": "code",
   "execution_count": null,
   "metadata": {},
   "outputs": [
    {
     "data": {
      "text/plain": [
       "[(11, 'student1', 'student1@calpoly.edu'),\n",
       " (15, 'student2', 'student2@calpoly.edu'),\n",
       " (18, 'mjordan', 'mjordan@calpoly.edu'),\n",
       " (20, 'lbird', 'lbird@calpoly.edu'),\n",
       " (21, 'dr_j', 'dr_j@calpoly.edu'),\n",
       " (22, 'mjohson', 'mjohson@calpoly.edu'),\n",
       " (23, 'kjabbar', 'kjabbar@calpoly.edu'),\n",
       " (24, 'drodman', 'drodman@calpoly.edu'),\n",
       " (25, 'blaimbeer', 'bill_laimbeer@gmail.com'),\n",
       " (30, 'kcolvin', 'kcolvin@calpoly.edu')]"
      ]
     },
     "execution_count": 78,
     "metadata": {},
     "output_type": "execute_result"
    }
   ],
   "source": [
    "query = \"SELECT * FROM students\"\n",
    "# Run the query\n",
    "mycursor.execute(query)\n",
    "myresult = mycursor.fetchall()\n",
    "myresult"
   ]
  },
  {
   "cell_type": "markdown",
   "metadata": {},
   "source": [
    "### Update your record with a new email address. You must know your id for the update query."
   ]
  },
  {
   "cell_type": "code",
   "execution_count": null,
   "metadata": {},
   "outputs": [
    {
     "name": "stdout",
     "output_type": "stream",
     "text": [
      "UPDATE students SET email = 'kurt.w.colvin@gmail.com' WHERE id = 30\n"
     ]
    },
    {
     "data": {
      "text/plain": [
       "[]"
      ]
     },
     "execution_count": 79,
     "metadata": {},
     "output_type": "execute_result"
    }
   ],
   "source": [
    "query = \"UPDATE students SET email = 'XXXX@XXX.com' WHERE id = XX\" # Update this line with your new email address and id.\n",
    "print(query)\n",
    "# Run the query\n",
    "mycursor.execute(query)\n",
    "# Commit the insert to the database connection. This is requred to insert, update or delete a record\n",
    "conn.commit()\n",
    "myresult = mycursor.fetchall()\n",
    "myresult"
   ]
  },
  {
   "cell_type": "code",
   "execution_count": null,
   "metadata": {},
   "outputs": [
    {
     "data": {
      "text/plain": [
       "[(11, 'student1', 'student1@calpoly.edu'),\n",
       " (15, 'student2', 'student2@calpoly.edu'),\n",
       " (18, 'mjordan', 'mjordan@calpoly.edu'),\n",
       " (20, 'lbird', 'lbird@calpoly.edu'),\n",
       " (21, 'dr_j', 'dr_j@calpoly.edu'),\n",
       " (22, 'mjohson', 'mjohson@calpoly.edu'),\n",
       " (23, 'kjabbar', 'kjabbar@calpoly.edu'),\n",
       " (24, 'drodman', 'drodman@calpoly.edu'),\n",
       " (25, 'blaimbeer', 'bill_laimbeer@gmail.com'),\n",
       " (30, 'kcolvin', 'kurt.w.colvin@gmail.com')]"
      ]
     },
     "execution_count": 80,
     "metadata": {},
     "output_type": "execute_result"
    }
   ],
   "source": [
    "query = \"SELECT * FROM students\"\n",
    "# Run the query\n",
    "mycursor.execute(query)\n",
    "myresult = mycursor.fetchall()\n",
    "myresult"
   ]
  },
  {
   "cell_type": "markdown",
   "metadata": {},
   "source": [
    "### That's it. Now we can fully Create, Read, Update and Delete records in a SQL database.  We can CRUD!"
   ]
  },
  {
   "cell_type": "markdown",
   "metadata": {},
   "source": [
    "# Assignment: \n",
    "- Make sure you edit the README.md file included in this repo.\n",
    "- In that file, add your username to the list of contributors to the repo. Just follow the example. Make sure you include the Markdown tags.\n",
    "- Save your work in both files: README.md and this yourusername.ipynb file.\n",
    "- At the CLI (the terminal in SageMaker Studio Lab), enter the required commands to add, commit and push your changes to the GitHub repo."
   ]
  },
  {
   "cell_type": "code",
   "execution_count": null,
   "metadata": {},
   "outputs": [],
   "source": []
  },
  {
   "cell_type": "code",
   "execution_count": null,
   "metadata": {},
   "outputs": [],
   "source": []
  }
 ],
 "metadata": {
  "kernelspec": {
   "display_name": "default:Python",
   "language": "python",
   "name": "conda-env-default-py"
  },
  "language_info": {
   "codemirror_mode": {
    "name": "ipython",
    "version": 3
   },
   "file_extension": ".py",
   "mimetype": "text/x-python",
   "name": "python",
   "nbconvert_exporter": "python",
   "pygments_lexer": "ipython3",
   "version": "3.9.10"
  }
 },
 "nbformat": 4,
 "nbformat_minor": 4
}
